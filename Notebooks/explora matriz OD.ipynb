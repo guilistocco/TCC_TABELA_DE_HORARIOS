{
 "cells": [
  {
   "cell_type": "code",
   "execution_count": 1,
   "metadata": {},
   "outputs": [],
   "source": [
    "import numpy as np\n",
    "import pandas as pd"
   ]
  },
  {
   "cell_type": "markdown",
   "metadata": {},
   "source": [
    "# Junho\n"
   ]
  },
  {
   "cell_type": "code",
   "execution_count": 8,
   "metadata": {},
   "outputs": [],
   "source": [
    "OD_junho_612 = pd.read_csv('/Users/guilistocco/Documents/TCC 2 - Ônibus/BancoDados/origen-destino/origen-destino-junho_612.csv',\n",
    "                    index_col= 'Unnamed: 0')\n",
    "\n",
    "    #  Sao 214k linhas"
   ]
  },
  {
   "cell_type": "markdown",
   "metadata": {},
   "source": [
    "## Limpeza dos dados"
   ]
  },
  {
   "cell_type": "markdown",
   "metadata": {},
   "source": [
    "Todos os device_id sao nulos"
   ]
  },
  {
   "cell_type": "code",
   "execution_count": 4,
   "metadata": {},
   "outputs": [
    {
     "name": "stdout",
     "output_type": "stream",
     "text": [
      "<class 'pandas.core.frame.DataFrame'>\n",
      "Int64Index: 184 entries, 226 to 206366\n",
      "Data columns (total 15 columns):\n",
      " #   Column      Non-Null Count  Dtype  \n",
      "---  ------      --------------  -----  \n",
      " 0   device_id   0 non-null      float64\n",
      " 1   timestampI  184 non-null    object \n",
      " 2   timestampF  184 non-null    object \n",
      " 3   MAC         184 non-null    object \n",
      " 4   RSSI        184 non-null    int64  \n",
      " 5   channel     184 non-null    int64  \n",
      " 6   latitudeI   184 non-null    float64\n",
      " 7   longitudeI  184 non-null    float64\n",
      " 8   latitudeF   184 non-null    float64\n",
      " 9   longitudeF  184 non-null    float64\n",
      " 10  cnt_pckg    184 non-null    int64  \n",
      " 11  id          184 non-null    int64  \n",
      " 12  duration    184 non-null    int64  \n",
      " 13  ts_sort     184 non-null    object \n",
      " 14  distancias  184 non-null    float64\n",
      "dtypes: float64(6), int64(5), object(4)\n",
      "memory usage: 23.0+ KB\n"
     ]
    }
   ],
   "source": [
    "OD_junho_612.info()"
   ]
  },
  {
   "cell_type": "code",
   "execution_count": 11,
   "metadata": {},
   "outputs": [
    {
     "data": {
      "text/html": [
       "<div>\n",
       "<style scoped>\n",
       "    .dataframe tbody tr th:only-of-type {\n",
       "        vertical-align: middle;\n",
       "    }\n",
       "\n",
       "    .dataframe tbody tr th {\n",
       "        vertical-align: top;\n",
       "    }\n",
       "\n",
       "    .dataframe thead th {\n",
       "        text-align: right;\n",
       "    }\n",
       "</style>\n",
       "<table border=\"1\" class=\"dataframe\">\n",
       "  <thead>\n",
       "    <tr style=\"text-align: right;\">\n",
       "      <th></th>\n",
       "      <th>device_id</th>\n",
       "      <th>timestampI</th>\n",
       "      <th>timestampF</th>\n",
       "      <th>MAC</th>\n",
       "      <th>latitudeI</th>\n",
       "      <th>longitudeI</th>\n",
       "      <th>latitudeF</th>\n",
       "      <th>longitudeF</th>\n",
       "      <th>cnt_pckg</th>\n",
       "      <th>id</th>\n",
       "      <th>duration</th>\n",
       "      <th>ts_sort</th>\n",
       "      <th>distancias</th>\n",
       "    </tr>\n",
       "  </thead>\n",
       "  <tbody>\n",
       "    <tr>\n",
       "      <th>226</th>\n",
       "      <td>NaN</td>\n",
       "      <td>2021-06-01 07:41:22</td>\n",
       "      <td>2021-06-01 07:47:07</td>\n",
       "      <td>f0:d7:aa:05:66:18</td>\n",
       "      <td>-22.829499</td>\n",
       "      <td>-47.063892</td>\n",
       "      <td>-22.821215</td>\n",
       "      <td>-47.067460</td>\n",
       "      <td>250</td>\n",
       "      <td>196</td>\n",
       "      <td>345</td>\n",
       "      <td>2021-06-01 07:41:22</td>\n",
       "      <td>0.991069</td>\n",
       "    </tr>\n",
       "    <tr>\n",
       "      <th>744</th>\n",
       "      <td>NaN</td>\n",
       "      <td>2021-06-01 09:24:22</td>\n",
       "      <td>2021-06-01 09:29:47</td>\n",
       "      <td>86:a7:a2:b5:11:7a</td>\n",
       "      <td>-22.825870</td>\n",
       "      <td>-47.066720</td>\n",
       "      <td>-22.816695</td>\n",
       "      <td>-47.063552</td>\n",
       "      <td>158</td>\n",
       "      <td>249</td>\n",
       "      <td>325</td>\n",
       "      <td>2021-06-01 09:24:22</td>\n",
       "      <td>1.070636</td>\n",
       "    </tr>\n",
       "    <tr>\n",
       "      <th>755</th>\n",
       "      <td>NaN</td>\n",
       "      <td>2021-06-01 09:24:51</td>\n",
       "      <td>2021-06-01 09:32:50</td>\n",
       "      <td>08:8c:2c:28:4b:33</td>\n",
       "      <td>-22.825683</td>\n",
       "      <td>-47.066245</td>\n",
       "      <td>-22.813499</td>\n",
       "      <td>-47.061077</td>\n",
       "      <td>123</td>\n",
       "      <td>260</td>\n",
       "      <td>479</td>\n",
       "      <td>2021-06-01 09:24:51</td>\n",
       "      <td>1.454663</td>\n",
       "    </tr>\n",
       "    <tr>\n",
       "      <th>849</th>\n",
       "      <td>NaN</td>\n",
       "      <td>2021-06-01 09:30:26</td>\n",
       "      <td>2021-06-01 09:36:24</td>\n",
       "      <td>9a:41:34:1d:af:30</td>\n",
       "      <td>-22.814146</td>\n",
       "      <td>-47.064378</td>\n",
       "      <td>-22.817959</td>\n",
       "      <td>-47.063955</td>\n",
       "      <td>38</td>\n",
       "      <td>354</td>\n",
       "      <td>358</td>\n",
       "      <td>2021-06-01 09:30:26</td>\n",
       "      <td>0.426198</td>\n",
       "    </tr>\n",
       "    <tr>\n",
       "      <th>1002</th>\n",
       "      <td>NaN</td>\n",
       "      <td>2021-06-01 11:05:12</td>\n",
       "      <td>2021-06-01 11:11:17</td>\n",
       "      <td>48:49:c7:19:22:fa</td>\n",
       "      <td>-22.816364</td>\n",
       "      <td>-47.072659</td>\n",
       "      <td>-22.824409</td>\n",
       "      <td>-47.064886</td>\n",
       "      <td>99</td>\n",
       "      <td>7</td>\n",
       "      <td>365</td>\n",
       "      <td>2021-06-01 11:05:12</td>\n",
       "      <td>1.197882</td>\n",
       "    </tr>\n",
       "    <tr>\n",
       "      <th>...</th>\n",
       "      <td>...</td>\n",
       "      <td>...</td>\n",
       "      <td>...</td>\n",
       "      <td>...</td>\n",
       "      <td>...</td>\n",
       "      <td>...</td>\n",
       "      <td>...</td>\n",
       "      <td>...</td>\n",
       "      <td>...</td>\n",
       "      <td>...</td>\n",
       "      <td>...</td>\n",
       "      <td>...</td>\n",
       "      <td>...</td>\n",
       "    </tr>\n",
       "    <tr>\n",
       "      <th>205320</th>\n",
       "      <td>NaN</td>\n",
       "      <td>2021-06-29 13:41:43</td>\n",
       "      <td>2021-06-29 13:44:10</td>\n",
       "      <td>c6:5b:2c:e7:8c:0c</td>\n",
       "      <td>-22.824604</td>\n",
       "      <td>-47.064870</td>\n",
       "      <td>-22.831482</td>\n",
       "      <td>-47.063222</td>\n",
       "      <td>51</td>\n",
       "      <td>242</td>\n",
       "      <td>147</td>\n",
       "      <td>2021-06-29 13:41:43</td>\n",
       "      <td>0.783227</td>\n",
       "    </tr>\n",
       "    <tr>\n",
       "      <th>205350</th>\n",
       "      <td>NaN</td>\n",
       "      <td>2021-06-29 13:42:17</td>\n",
       "      <td>2021-06-29 13:45:11</td>\n",
       "      <td>aa:24:eb:bd:4e:40</td>\n",
       "      <td>-22.825205</td>\n",
       "      <td>-47.066226</td>\n",
       "      <td>-22.829520</td>\n",
       "      <td>-47.061736</td>\n",
       "      <td>110</td>\n",
       "      <td>272</td>\n",
       "      <td>174</td>\n",
       "      <td>2021-06-29 13:42:17</td>\n",
       "      <td>0.664804</td>\n",
       "    </tr>\n",
       "    <tr>\n",
       "      <th>205369</th>\n",
       "      <td>NaN</td>\n",
       "      <td>2021-06-29 13:42:39</td>\n",
       "      <td>2021-06-29 13:44:39</td>\n",
       "      <td>f0:d7:aa:e8:4a:c1</td>\n",
       "      <td>-22.825675</td>\n",
       "      <td>-47.066901</td>\n",
       "      <td>-22.831256</td>\n",
       "      <td>-47.062334</td>\n",
       "      <td>48</td>\n",
       "      <td>291</td>\n",
       "      <td>120</td>\n",
       "      <td>2021-06-29 13:42:39</td>\n",
       "      <td>0.777297</td>\n",
       "    </tr>\n",
       "    <tr>\n",
       "      <th>205596</th>\n",
       "      <td>NaN</td>\n",
       "      <td>2021-06-29 13:51:09</td>\n",
       "      <td>2021-06-29 13:52:14</td>\n",
       "      <td>88:b4:a6:a5:a0:2a</td>\n",
       "      <td>-22.820951</td>\n",
       "      <td>-47.066944</td>\n",
       "      <td>-22.818299</td>\n",
       "      <td>-47.063786</td>\n",
       "      <td>79</td>\n",
       "      <td>518</td>\n",
       "      <td>65</td>\n",
       "      <td>2021-06-29 13:51:09</td>\n",
       "      <td>0.437860</td>\n",
       "    </tr>\n",
       "    <tr>\n",
       "      <th>206366</th>\n",
       "      <td>NaN</td>\n",
       "      <td>2021-06-29 15:26:36</td>\n",
       "      <td>2021-06-29 15:41:21</td>\n",
       "      <td>bc:ff:eb:5f:37:ce</td>\n",
       "      <td>-22.813888</td>\n",
       "      <td>-47.068874</td>\n",
       "      <td>-22.821337</td>\n",
       "      <td>-47.067848</td>\n",
       "      <td>34</td>\n",
       "      <td>138</td>\n",
       "      <td>885</td>\n",
       "      <td>2021-06-29 15:26:36</td>\n",
       "      <td>0.834941</td>\n",
       "    </tr>\n",
       "  </tbody>\n",
       "</table>\n",
       "<p>184 rows × 13 columns</p>\n",
       "</div>"
      ],
      "text/plain": [
       "        device_id           timestampI           timestampF  \\\n",
       "226           NaN  2021-06-01 07:41:22  2021-06-01 07:47:07   \n",
       "744           NaN  2021-06-01 09:24:22  2021-06-01 09:29:47   \n",
       "755           NaN  2021-06-01 09:24:51  2021-06-01 09:32:50   \n",
       "849           NaN  2021-06-01 09:30:26  2021-06-01 09:36:24   \n",
       "1002          NaN  2021-06-01 11:05:12  2021-06-01 11:11:17   \n",
       "...           ...                  ...                  ...   \n",
       "205320        NaN  2021-06-29 13:41:43  2021-06-29 13:44:10   \n",
       "205350        NaN  2021-06-29 13:42:17  2021-06-29 13:45:11   \n",
       "205369        NaN  2021-06-29 13:42:39  2021-06-29 13:44:39   \n",
       "205596        NaN  2021-06-29 13:51:09  2021-06-29 13:52:14   \n",
       "206366        NaN  2021-06-29 15:26:36  2021-06-29 15:41:21   \n",
       "\n",
       "                      MAC  latitudeI  longitudeI  latitudeF  longitudeF  \\\n",
       "226     f0:d7:aa:05:66:18 -22.829499  -47.063892 -22.821215  -47.067460   \n",
       "744     86:a7:a2:b5:11:7a -22.825870  -47.066720 -22.816695  -47.063552   \n",
       "755     08:8c:2c:28:4b:33 -22.825683  -47.066245 -22.813499  -47.061077   \n",
       "849     9a:41:34:1d:af:30 -22.814146  -47.064378 -22.817959  -47.063955   \n",
       "1002    48:49:c7:19:22:fa -22.816364  -47.072659 -22.824409  -47.064886   \n",
       "...                   ...        ...         ...        ...         ...   \n",
       "205320  c6:5b:2c:e7:8c:0c -22.824604  -47.064870 -22.831482  -47.063222   \n",
       "205350  aa:24:eb:bd:4e:40 -22.825205  -47.066226 -22.829520  -47.061736   \n",
       "205369  f0:d7:aa:e8:4a:c1 -22.825675  -47.066901 -22.831256  -47.062334   \n",
       "205596  88:b4:a6:a5:a0:2a -22.820951  -47.066944 -22.818299  -47.063786   \n",
       "206366  bc:ff:eb:5f:37:ce -22.813888  -47.068874 -22.821337  -47.067848   \n",
       "\n",
       "        cnt_pckg   id  duration              ts_sort  distancias  \n",
       "226          250  196       345  2021-06-01 07:41:22    0.991069  \n",
       "744          158  249       325  2021-06-01 09:24:22    1.070636  \n",
       "755          123  260       479  2021-06-01 09:24:51    1.454663  \n",
       "849           38  354       358  2021-06-01 09:30:26    0.426198  \n",
       "1002          99    7       365  2021-06-01 11:05:12    1.197882  \n",
       "...          ...  ...       ...                  ...         ...  \n",
       "205320        51  242       147  2021-06-29 13:41:43    0.783227  \n",
       "205350       110  272       174  2021-06-29 13:42:17    0.664804  \n",
       "205369        48  291       120  2021-06-29 13:42:39    0.777297  \n",
       "205596        79  518        65  2021-06-29 13:51:09    0.437860  \n",
       "206366        34  138       885  2021-06-29 15:26:36    0.834941  \n",
       "\n",
       "[184 rows x 13 columns]"
      ]
     },
     "execution_count": 11,
     "metadata": {},
     "output_type": "execute_result"
    }
   ],
   "source": [
    "OD_junho_612"
   ]
  },
  {
   "cell_type": "code",
   "execution_count": 9,
   "metadata": {},
   "outputs": [
    {
     "data": {
      "text/plain": [
       "Index(['device_id', 'timestampI', 'timestampF', 'MAC', 'RSSI', 'channel',\n",
       "       'latitudeI', 'longitudeI', 'latitudeF', 'longitudeF', 'cnt_pckg', 'id',\n",
       "       'duration', 'ts_sort', 'distancias'],\n",
       "      dtype='object')"
      ]
     },
     "execution_count": 9,
     "metadata": {},
     "output_type": "execute_result"
    }
   ],
   "source": [
    "OD_junho_612.columns"
   ]
  },
  {
   "cell_type": "code",
   "execution_count": 10,
   "metadata": {},
   "outputs": [],
   "source": [
    "OD_junho_612 = OD_junho_612[['device_id', 'timestampI', 'timestampF', 'MAC',\n",
    "       'latitudeI', 'longitudeI', 'latitudeF', 'longitudeF', 'cnt_pckg', 'id',\n",
    "       'duration', 'ts_sort', 'distancias']]"
   ]
  },
  {
   "cell_type": "code",
   "execution_count": 15,
   "metadata": {},
   "outputs": [
    {
     "data": {
      "text/plain": [
       "0      3\n",
       "1      2\n",
       "2      1\n",
       "3      3\n",
       "4      4\n",
       "      ..\n",
       "462    1\n",
       "463    1\n",
       "487    1\n",
       "518    1\n",
       "582    1\n",
       "Name: id, Length: 128, dtype: int64"
      ]
     },
     "execution_count": 15,
     "metadata": {},
     "output_type": "execute_result"
    }
   ],
   "source": [
    "OD_junho_612.id.value_counts().sort_index()"
   ]
  },
  {
   "cell_type": "code",
   "execution_count": null,
   "metadata": {},
   "outputs": [],
   "source": []
  }
 ],
 "metadata": {
  "kernelspec": {
   "display_name": "Python 3.10.6 64-bit",
   "language": "python",
   "name": "python3"
  },
  "language_info": {
   "codemirror_mode": {
    "name": "ipython",
    "version": 3
   },
   "file_extension": ".py",
   "mimetype": "text/x-python",
   "name": "python",
   "nbconvert_exporter": "python",
   "pygments_lexer": "ipython3",
   "version": "3.10.6"
  },
  "orig_nbformat": 4,
  "vscode": {
   "interpreter": {
    "hash": "aee8b7b246df8f9039afb4144a1f6fd8d2ca17a180786b69acc140d282b71a49"
   }
  }
 },
 "nbformat": 4,
 "nbformat_minor": 2
}
